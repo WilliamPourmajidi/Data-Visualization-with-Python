{
 "cells": [
  {
   "cell_type": "markdown",
   "metadata": {},
   "source": [
    "## Activity 03: Filtering, Sorting, and Reshaping"
   ]
  },
  {
   "cell_type": "markdown",
   "metadata": {},
   "source": [
    "Following up on the last activity, we are asked to deliver some more complex operations.   \n",
    "We will, therefore, continue to work with the same dataset, our `normal_distribution.csv`."
   ]
  },
  {
   "cell_type": "markdown",
   "metadata": {},
   "source": [
    "#### Loading the dataset"
   ]
  },
  {
   "cell_type": "code",
   "execution_count": 1,
   "metadata": {},
   "outputs": [],
   "source": [
    "# importing the necessary dependencies\n",
    "import numpy as np"
   ]
  },
  {
   "cell_type": "code",
   "execution_count": 2,
   "metadata": {},
   "outputs": [],
   "source": [
    "# loading the Dataset\n",
    "dataset = np.genfromtxt('./data/normal_distribution.csv', delimiter=',')"
   ]
  },
  {
   "cell_type": "markdown",
   "metadata": {},
   "source": [
    "---"
   ]
  },
  {
   "cell_type": "markdown",
   "metadata": {},
   "source": [
    "#### Filtering"
   ]
  },
  {
   "cell_type": "markdown",
   "metadata": {},
   "source": [
    "To get better insights into our dataset, we want to only look at the value that fulfills certain conditions.   \n",
    "Our client reaches out to us and asks us to provide lists of values that fulfills these conditions:\n",
    "- all values greater than 95 (>95)\n",
    "- all values that are between 80 and 95 (>80 and <95)\n",
    "- the indices of all values that have a delta of less than 1 to 100 (x-100 < 1)"
   ]
  },
  {
   "cell_type": "code",
   "execution_count": 3,
   "metadata": {},
   "outputs": [
    {
     "data": {
      "text/plain": [
       "array([100.,  96., 100.,  97., 100., 100.])"
      ]
     },
     "execution_count": 3,
     "metadata": {},
     "output_type": "execute_result"
    }
   ],
   "source": [
    "# values that are greater than 95\n",
    "dataset[dataset>95]\n"
   ]
  },
  {
   "cell_type": "code",
   "execution_count": 4,
   "metadata": {},
   "outputs": [
    {
     "data": {
      "text/plain": [
       "array([85., 90., 82., 85., 90., 90., 90., 81., 82., 82., 87., 87., 83.,\n",
       "       82., 89.])"
      ]
     },
     "execution_count": 4,
     "metadata": {},
     "output_type": "execute_result"
    }
   ],
   "source": [
    "# values that are between 80 and 95\n",
    "dataset[(dataset>80) & (dataset<95)]"
   ]
  },
  {
   "cell_type": "markdown",
   "metadata": {},
   "source": [
    "> **Note:**    \n",
    "Conditional filtering can be done either using the brackets syntax or NumPys `extract` method"
   ]
  },
  {
   "cell_type": "code",
   "execution_count": 5,
   "metadata": {},
   "outputs": [
    {
     "name": "stdout",
     "output_type": "stream",
     "text": [
      "Solution-1:\n",
      "row is : [2 3 4 5]\n",
      "col is : [2 2 7 7]\n",
      "indices of values that have a delta of less than 1 to 100 [[2, 2], [3, 2], [4, 7], [5, 7]]\n",
      "Solution-2:\n",
      "[[2, 2], [3, 2], [4, 7], [5, 7]]\n"
     ]
    }
   ],
   "source": [
    "# indices of values that have a delta of less than 1 to 100\n",
    "\n",
    "#Solution-1\n",
    "print(\"Solution-1:\")\n",
    "rows, cols = np.where(abs(dataset - 100) < 1)\n",
    "print('row is :',rows)\n",
    "print('col is :',cols)\n",
    "\n",
    "my_list = []\n",
    "for (index,_) in np.ndenumerate(rows):\n",
    "    my_list.append([rows[index],cols[index]])\n",
    "\n",
    "print(\"indices of values that have a delta of less than 1 to 100\", my_list)\n",
    "\n",
    "\n",
    "    \n",
    "#Solution-2\n",
    "print(\"Solution-2:\")\n",
    "one_away_indices = [[rows[index], cols[index]] for (index, _) in np.ndenumerate(rows)]\n",
    "print(one_away_indices)\n"
   ]
  },
  {
   "cell_type": "markdown",
   "metadata": {},
   "source": [
    "---"
   ]
  },
  {
   "cell_type": "markdown",
   "metadata": {},
   "source": [
    "#### Sorting"
   ]
  },
  {
   "cell_type": "markdown",
   "metadata": {},
   "source": [
    "They also want to experiment with some more plotting techniques so they ask you to also deliver these datasets:\n",
    "- values sorted in ascending order for each row\n",
    "- values sorted in ascending order for each column\n",
    "- the matrix of indices indicating the position in a sorted list of each value   \n",
    "```\n",
    "[3, 1, 2, 5, 4]  =>  [1, 2, 0, 4, 3]\n",
    "```"
   ]
  },
  {
   "cell_type": "code",
   "execution_count": 6,
   "metadata": {},
   "outputs": [
    {
     "name": "stdout",
     "output_type": "stream",
     "text": [
      "[[ 59.  65.  71.  72.  75.  75.  85.  90.]\n",
      " [ 65.  71.  71.  75.  80.  82.  85.  90.]\n",
      " [ 59.  61.  75.  80.  90.  90.  96. 100.]\n",
      " [ 63.  64.  77.  81.  82.  95.  97. 100.]\n",
      " [ 65.  67.  69.  72.  82.  87.  87. 100.]\n",
      " [ 58.  75.  76.  79.  82.  83.  89. 100.]]\n"
     ]
    }
   ],
   "source": [
    "# values sorted for each row\n",
    "rows_sorted = np.sort(dataset,axis=1)\n",
    "print(rows_sorted)\n",
    " \n",
    "\n",
    "\n"
   ]
  },
  {
   "cell_type": "markdown",
   "metadata": {},
   "source": [
    "> **Note:**   \n",
    "By default, sorting will always be done along the last axis. In our case this is 1, leading to each row being sorted."
   ]
  },
  {
   "cell_type": "code",
   "execution_count": 7,
   "metadata": {},
   "outputs": [
    {
     "name": "stdout",
     "output_type": "stream",
     "text": [
      "[[ 80.  65.  65.  58.  59.  59.  65.  61.]\n",
      " [ 81.  75.  67.  72.  71.  63.  72.  64.]\n",
      " [ 82.  75.  79.  75.  82.  69.  87.  71.]\n",
      " [ 83.  82.  85.  77.  87.  71.  89.  75.]\n",
      " [ 85.  82. 100.  80.  90.  75.  96. 100.]\n",
      " [ 90.  90. 100.  90.  95.  76.  97. 100.]]\n"
     ]
    }
   ],
   "source": [
    "# values sorted for each column\n",
    "cols_sorted = np.sort(dataset, axis = 0)\n",
    "print(cols_sorted)"
   ]
  },
  {
   "cell_type": "code",
   "execution_count": 8,
   "metadata": {},
   "outputs": [
    {
     "name": "stdout",
     "output_type": "stream",
     "text": [
      "[[4 2 5 6 3 7 0 1]\n",
      " [6 4 7 5 0 1 2 3]\n",
      " [5 7 1 3 0 4 6 2]\n",
      " [5 7 3 0 1 4 6 2]\n",
      " [1 2 5 3 0 4 6 7]\n",
      " [3 1 5 2 4 0 6 7]]\n"
     ]
    }
   ],
   "source": [
    "# indices of positions for each row\n",
    "index_sorted = np.argsort(dataset)\n",
    "print(index_sorted)"
   ]
  },
  {
   "cell_type": "markdown",
   "metadata": {},
   "source": [
    "---"
   ]
  },
  {
   "cell_type": "markdown",
   "metadata": {},
   "source": [
    "#### Combining"
   ]
  },
  {
   "cell_type": "markdown",
   "metadata": {},
   "source": [
    "After finishing their visualization and doing ask you to deliver a way they can incrementally add the split parts of the dataset to make sure it works with every subset, too.   \n",
    "They want you to send them examples for:\n",
    "- adding the second half of the first column\n",
    "- adding the second column\n",
    "- adding the third and last separate column\n"
   ]
  },
  {
   "cell_type": "code",
   "execution_count": 9,
   "metadata": {},
   "outputs": [
    {
     "name": "stdout",
     "output_type": "stream",
     "text": [
      "[array([[85., 90.],\n",
      "       [80., 82.],\n",
      "       [90., 75.],\n",
      "       [81., 82.],\n",
      "       [82., 65.],\n",
      "       [83., 75.]]), array([[ 65.,  75.],\n",
      "       [ 85.,  90.],\n",
      "       [100.,  80.],\n",
      "       [100.,  77.],\n",
      "       [ 67.,  72.],\n",
      "       [ 79.,  58.]]), array([[59., 71.],\n",
      "       [71., 75.],\n",
      "       [90., 59.],\n",
      "       [95., 63.],\n",
      "       [87., 69.],\n",
      "       [82., 76.]]), array([[ 72.,  75.],\n",
      "       [ 65.,  71.],\n",
      "       [ 96.,  61.],\n",
      "       [ 97.,  64.],\n",
      "       [ 87., 100.],\n",
      "       [ 89., 100.]])]\n",
      "[array([[85., 90.],\n",
      "       [80., 82.],\n",
      "       [90., 75.]]), array([[81., 82.],\n",
      "       [82., 65.],\n",
      "       [83., 75.]])]\n"
     ]
    },
    {
     "data": {
      "text/plain": [
       "array([[85., 90.],\n",
       "       [80., 82.],\n",
       "       [90., 75.]])"
      ]
     },
     "execution_count": 9,
     "metadata": {},
     "output_type": "execute_result"
    }
   ],
   "source": [
    "# split up dataset from activity03\n",
    "quarter = np.hsplit(dataset, (4))\n",
    "print(quarter)\n",
    "\n",
    "halfed_first = np.vsplit(quarter[0], (2))\n",
    "print(halfed_first)\n",
    "# # this is the part we've sent the client in activity03\n",
    "halfed_first[0]"
   ]
  },
  {
   "cell_type": "code",
   "execution_count": 10,
   "metadata": {},
   "outputs": [
    {
     "name": "stdout",
     "output_type": "stream",
     "text": [
      "[[85. 90.]\n",
      " [80. 82.]\n",
      " [90. 75.]\n",
      " [81. 82.]\n",
      " [82. 65.]\n",
      " [83. 75.]]\n"
     ]
    }
   ],
   "source": [
    "# adding the second half of the first column to the data\n",
    "first_col = np.vstack([halfed_first[0], halfed_first[1]])\n",
    "print(first_col)"
   ]
  },
  {
   "cell_type": "code",
   "execution_count": 12,
   "metadata": {},
   "outputs": [
    {
     "name": "stdout",
     "output_type": "stream",
     "text": [
      "[[ 85.  90.  65.  75.]\n",
      " [ 80.  82.  85.  90.]\n",
      " [ 90.  75. 100.  80.]\n",
      " [ 81.  82. 100.  77.]\n",
      " [ 82.  65.  67.  72.]\n",
      " [ 83.  75.  79.  58.]]\n"
     ]
    }
   ],
   "source": [
    "# adding the second column to our combined dataset\n",
    "first_second_col = np.hstack([first_col, quarter[1]])\n",
    "print(first_second_col)"
   ]
  },
  {
   "cell_type": "code",
   "execution_count": 14,
   "metadata": {},
   "outputs": [
    {
     "name": "stdout",
     "output_type": "stream",
     "text": [
      "[[ 85.  90.  65.  75.  59.  71.]\n",
      " [ 80.  82.  85.  90.  71.  75.]\n",
      " [ 90.  75. 100.  80.  90.  59.]\n",
      " [ 81.  82. 100.  77.  95.  63.]\n",
      " [ 82.  65.  67.  72.  87.  69.]\n",
      " [ 83.  75.  79.  58.  82.  76.]]\n"
     ]
    }
   ],
   "source": [
    "# adding the third column to our combined dataset\n",
    "first_second_third_col = np.hstack([first_second_col, quarter[2]])\n",
    "print(first_second_third_col)"
   ]
  },
  {
   "cell_type": "markdown",
   "metadata": {},
   "source": [
    "> **Note:**    \n",
    "The same results can be achieved with `np.concatenate` and `np.stack`.    \n",
    "For both methods, you need to provide the axis onto which it should be appended.   \n",
    "Depending on your preferences you might want to use those."
   ]
  },
  {
   "cell_type": "markdown",
   "metadata": {},
   "source": [
    "---"
   ]
  },
  {
   "cell_type": "markdown",
   "metadata": {},
   "source": [
    "#### Reshaping"
   ]
  },
  {
   "cell_type": "markdown",
   "metadata": {},
   "source": [
    "For their internal AI algorithms, they need the dataset in a reshaped manner that reduces the number of columns.   \n",
    "They asked us to deliver the whole dataset in the following shapes:\n",
    "- reshaped in a one-dimensional list with all values\n",
    "- reshaped in a matrix with only 2 columns"
   ]
  },
  {
   "cell_type": "code",
   "execution_count": 25,
   "metadata": {},
   "outputs": [
    {
     "name": "stdout",
     "output_type": "stream",
     "text": [
      "(6, 8)\n",
      "[[ 85.  90.  65.  75.  59.  71.  72.  75.  80.  82.  85.  90.  71.  75.\n",
      "   65.  71.  90.  75. 100.  80.  90.  59.  96.  61.  81.  82. 100.  77.\n",
      "   95.  63.  97.  64.  82.  65.  67.  72.  87.  69.  87. 100.  83.  75.\n",
      "   79.  58.  82.  76.  89. 100.]]\n",
      "(1, 48)\n"
     ]
    }
   ],
   "source": [
    "# reshaping to a list of values\n",
    "print(dataset.shape)\n",
    "one_dim = dataset.reshape(1,48)\n",
    "print(one_dim)\n",
    "print(one_dim.shape)"
   ]
  },
  {
   "cell_type": "code",
   "execution_count": 32,
   "metadata": {},
   "outputs": [
    {
     "name": "stdout",
     "output_type": "stream",
     "text": [
      "[[ 85.  90.]\n",
      " [ 65.  75.]\n",
      " [ 59.  71.]\n",
      " [ 72.  75.]\n",
      " [ 80.  82.]\n",
      " [ 85.  90.]\n",
      " [ 71.  75.]\n",
      " [ 65.  71.]\n",
      " [ 90.  75.]\n",
      " [100.  80.]\n",
      " [ 90.  59.]\n",
      " [ 96.  61.]\n",
      " [ 81.  82.]\n",
      " [100.  77.]\n",
      " [ 95.  63.]\n",
      " [ 97.  64.]\n",
      " [ 82.  65.]\n",
      " [ 67.  72.]\n",
      " [ 87.  69.]\n",
      " [ 87. 100.]\n",
      " [ 83.  75.]\n",
      " [ 79.  58.]\n",
      " [ 82.  76.]\n",
      " [ 89. 100.]]\n",
      "(24, 2)\n",
      "--------------\n",
      "[[ 85.  90.]\n",
      " [ 65.  75.]\n",
      " [ 59.  71.]\n",
      " [ 72.  75.]\n",
      " [ 80.  82.]\n",
      " [ 85.  90.]\n",
      " [ 71.  75.]\n",
      " [ 65.  71.]\n",
      " [ 90.  75.]\n",
      " [100.  80.]\n",
      " [ 90.  59.]\n",
      " [ 96.  61.]\n",
      " [ 81.  82.]\n",
      " [100.  77.]\n",
      " [ 95.  63.]\n",
      " [ 97.  64.]\n",
      " [ 82.  65.]\n",
      " [ 67.  72.]\n",
      " [ 87.  69.]\n",
      " [ 87. 100.]\n",
      " [ 83.  75.]\n",
      " [ 79.  58.]\n",
      " [ 82.  76.]\n",
      " [ 89. 100.]]\n",
      "(24, 2)\n"
     ]
    }
   ],
   "source": [
    "# reshaping to a matrix with two columns\n",
    "reshaped = dataset.reshape(24,2)\n",
    "auto_reshaped = dataset.reshape(24,-1)  # -1 means that it will figure out the other dimention itself - good for large datasets\n",
    "print(reshaped)\n",
    "print(reshaped.shape)\n",
    "print(\"--------------\")\n",
    "print(auto_reshaped)\n",
    "print(auto_reshaped.shape)\n"
   ]
  },
  {
   "cell_type": "markdown",
   "metadata": {},
   "source": [
    "> **Note:**   \n",
    "-1 in the dimension definition means that it figures out the other dimension on its own"
   ]
  }
 ],
 "metadata": {
  "kernelspec": {
   "display_name": "Python 3",
   "language": "python",
   "name": "python3"
  },
  "language_info": {
   "codemirror_mode": {
    "name": "ipython",
    "version": 3
   },
   "file_extension": ".py",
   "mimetype": "text/x-python",
   "name": "python",
   "nbconvert_exporter": "python",
   "pygments_lexer": "ipython3",
   "version": "3.8.8"
  }
 },
 "nbformat": 4,
 "nbformat_minor": 4
}
